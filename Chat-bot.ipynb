{
 "cells": [
  {
   "cell_type": "markdown",
   "metadata": {},
   "source": [
    "## Extracting Data"
   ]
  },
  {
   "cell_type": "code",
   "execution_count": 2,
   "metadata": {},
   "outputs": [],
   "source": [
    "url = \"https://brainlox.com/courses/category/technical\""
   ]
  },
  {
   "cell_type": "code",
   "execution_count": 3,
   "metadata": {},
   "outputs": [
    {
     "name": "stderr",
     "output_type": "stream",
     "text": [
      "USER_AGENT environment variable not set, consider setting it to identify your requests.\n"
     ]
    }
   ],
   "source": [
    "from langchain_community.document_loaders import WebBaseLoader\n",
    "loader = WebBaseLoader(url)\n",
    "\n",
    "data = loader.load()"
   ]
  },
  {
   "cell_type": "code",
   "execution_count": 4,
   "metadata": {},
   "outputs": [
    {
     "data": {
      "text/plain": [
       "[Document(page_content='Brainlox: Learn technical courses.Courses TechnicalAcademicLanguageMusicLifestyleBook a Free Demo NowSign InFAQContact UsPractice PythonLearn NowHomeCoursesCoursesWe found great courses available for you$20per sessionLEARN SCRATCH PROGRAMING\\nScratch Course is the foundation of coding and is a building block of a coding journey. If you want 16 LessonsView Details$30per sessionLEARN CLOUD COMPUTING BASICS-AWS\\nIn this course we are going to cover the basics and the most important services on AWS,\\nAt the end  20 LessonsView Details$20per sessionLEARN MOBILE DEVELOPMENT\\nMobile application development is the process of creating software applications that run on a mobil 24 LessonsView Details$20per sessionLEARN CORE JAVA PROGRAMMING ONLINE\\nJava is a very popular high-level, class-based, object-oriented programming language that is design 41 LessonsView Details$20per sessionLEARN ROBOTICS\\nYou can open all kinds of doors for advancement in so many careers with a basic understanding of el 25 LessonsView Details$20per sessionLEARN JAVASCRIPT\\nJavaScript is the most popular programming language in the world. It powers the entire modern web.  18 LessonsView Details$20per sessionLEARN NODE JS\\nNode.js developers are in high demand and the language is used for everything from traditional web  18 LessonsView Details$35per sessionLEARN CLOUD COMPUTING ADVANCE-AWSDESCRIPTION\\nThis introduction to cloud computing on Amazon AWS course takes you from the AWS Ad 18 LessonsView Details$20per sessionPYTHON PROGRAMMING-BEGINNER\\nPython is a language with simple syntax, and a powerful set of libraries. It has a rich programming 16 LessonsView Details$30per sessionRoblox Programming For BeginnersExplore the dynamic universe of game development with our \"Roblox Game Development Fundamentals\" cou 15 LessonsView Details$20per sessionPYTHON PROGRAMMING-INTERMEDIATE\\nTake your python skills to the next level and start building real applications.\\nPython is a pro 16 LessonsView Details$25per sessionPYTHON PROGRAMMING-ADVANCEIf you already know Python basics, then this training is the next step in your Python learning path  30 LessonsView Details$20per sessionPYTHON PROGRAMMING GROUP CLASSES - BEGINNER\\nPython is a language with simple syntax, and a powerful set of libraries. It has a rich programming 16 LessonsView Details$30per sessionAdvanced Roblox Scripting Workshop\"Are you ready to unlock the full potential of your Roblox game development skills? Join our Interme 14 LessonsView Details$20per sessionRobotics Adventure Awaits:Join Our Summer Camp for Young Tech Wizards!This course is designed to introduce beginners to the world of robotics. Learners will be taught the 16 LessonsView Details$20per sessionJava Project-Based CourseJava Project-Based Course for Intermediate Level Students ;Overview: This course is designed for int 7 LessonsView Details$22per sessionArtificial Intelligence Adventures: Building AI Chatbot Like Chatgpt (For Kids)Unlock the power of AI chatbots in our 10-day course! Gain comprehensive knowledge of chatbot develo 10 LessonsView Details$20per sessionPython Playground: Create a Hangman GamePython Playground : Create a Hangman Game is an exciting and engaging course designed specifically f 8 LessonsView Details$20per sessionScratch Playground: Create a Maze Game!Scratch Playground : Create a Maze Game! is a beginner-level course designed to introduce kids to th 8 LessonsView Details$13per sessionArtificial Intelligence Essentials: Summer BootcampJoin us for this engaging 5-day summer bootcamp where we will explore the fascinating world of Artif 5 LessonsView Details$25per sessionTime Mastery Camp: AI for Jobs, Business, CareersThe \"AI for Productivity and Time Management\" course: ğŸš€ğŸ’¡\\nDay 1: Introduction to AI and its Applica 11 LessonsView Details$20per sessionBuild Your Own Theme Park in RobloxRoblox Studio fundamentals are taught through fun and interactive projects. Lectures, projects, hand 8 LessonsView Details$12per sessionJava Coding Summer Camp for Young MindsJava Journey: Coding Camp for Curious Minds\" is a fun-filled, 5-day adventure into the world of prog 5 LessonsView Details$25per sessionAI Camp for Entrepreneurs: Build Business SuccessWelcome to the world of AI in entrepreneurship!  In this course, we will embark on a thrilling journ 7 LessonsView Details$12per sessionChatGPT Boot Camp: Basics & Best UsesJoin us for an exciting journey into the world of AI chatbots with this 5-day bootcamp. You\\'ll learn 5 LessonsView Details$13per sessionCreate-A-Bot: A Project-Based Robotics ExplorationIgnite your child\\'s tech curiosity with our \"RoboRacers\" camp! Over five days, campers will delve in 5 LessonsView Details$20per sessionJava & Proramming\" Project outline for JAVA PROJECT BASED BOOTCAMP\\n1: Introduction to Java and Programming Basics.\\n2. 8 LessonsView Details$13per sessionChatbot Creators: Design a ChatGPT-like AIJoin us on a 7-day bootcamp to step into the world of AI and create your own chatbot like ChatGPT. Y 7 LessonsView Details$30per sessionWeb Development from scratchUnlock the boundless potential of web development with our \"Web Development Essentials\" course. Whet 6 LessonsView Details$11per sessionSummer Camp: Introduction to PythonStep into our 7-day \"Python Project Playground\" camp where coding meets creativity! Kids will explor 7 LessonsView Details$22per sessionAI Secrets Revealed: Master Productivity Hacks That Will Blow Your Mind! (For Kids)Boost your productivity with AI! \\n\\nJoin our \"AI for Productivity and Time Management\" course and lea 11 LessonsView Details$12per sessionSummer Bootcamp with JavaScript: Real Projects, Real ResultsIn this 5-day camp, you\\'ll dive headfirst into JavaScript, one of the world\\'s most popular programmi 5 LessonsView Details$22per sessionAI Disruption: Top Entrepreneurs Harnessing AI for Unprecedented Success! (For Kids)Understand the role and potential of AI in entrepreneurship, learn the fundamentals, explore data ac 7 LessonsView Details$22per sessionThe AI Writer\\'s Masterclass: Innovation and Inspiration in Creative Writing! (For Kids)Enhance your creative writing skills with AI! Join our 10-day course and explore AI\\'s role in writin 10 LessonsView Details$30per sessionWeb Development Pro: Intermediate LevelReady to unlock the full potential of web development? Join our \"Intermediate Web Development Master 8 LessonsView Details$20per sessionScratch Playground: Create a Scroller Game!Scratch Playground : Create a Scroller Game is an intermediate level course designed to teach kids t 8 LessonsView Details$25per sessionAI Pro: Creative Writing Camp for AdultsğŸš€ Welcome to Creative Writing with AI for ADULTS! \\nUnleash your creativity with cutting-edge AI tec 10 LessonsView Details$20per sessionPython Playground: Create Your Own Snake GameThrough this course, participants will learn the fundamentals of Python programming language, as wel 8 LessonsView Details$20per sessionBuild your own Calculator using Python Bootcamp for kidsThis bootcamp is a fun and engaging program designed to introduce children to the basics of programm 8 LessonsView Details$20per sessionPython Playground: Create a Tic Tac Toe GameAn interactive and hands-on tutorial designed to help learners build their programming skills while  8 LessonsView Details$20per sessionScratch Playground: Create a Flappy Bird Game!Scratch Playground 103: Create a Flappy Bird is a beginner to intermediate level course designed to  8 LessonsView Details$12per sessionHTML, CSS, JavaScript: 7-Day Summer BootcampJump into the vibrant world of coding with our engaging 7-day summer camp! Starting from scratch, yo 7 LessonsView Details$11per sessionHands-on Java: Project-based Learning for Coding NovicesEmbark on a coding adventure with our \"Code, Create, Conquer\" Java camp! In just 7 days, kids will l 7 LessonsView Details$20per sessionPython Playground: Create a Memory GamePython Playground: Create a Memory Game is a beginner-level course designed for kids who are interes 8 LessonsView Details$12per sessionSummer Bootcamp: 5-Day Scratch Programming for BeginnersEmbark on an exciting coding adventure with our 5-day Scratch Programming camp! Designed for beginne 5 LessonsView Details$12per session5-Day Summer Camp: Python for BeginnersDive into coding with our 5-day \"Python Playground\" camp! Kids will explore Python, a popular langua 5 LessonsView Details$20per sessionBuild a Text analyzer using Python Bootcamp for kidsThe Build a Text Analyzer using Python Bootcamp for Kids is an educational program designed to intro 8 LessonsView Details$20per sessionScratch Playground : Create a Platformer Game!Scratch Playground : Create a Platformer Game is an intermediate level course designed to teach kids 8 LessonsView Details$30per sessionIntroduction to Artificial Intelligence!Welcome to the \"Introduction to Artificial Intelligence and Python\" course! This course is designed  5 LessonsView Details$20per sessionPython Playground: Create a Rock, Paper, Scissors GameThis is an engaging course designed for kids who are interested in learning programming with Python. 8 LessonsView Details$25per sessionAI in Stock Market Success: Career Growth Camp !!Are you ready to unlock the secrets of predicting stock prices using AI? ğŸ“ˆğŸ¤– Join our immersive cou 10 LessonsView Details$22per sessionFrom Beginner to AI Pro: Kickstart Your Journey With Artificial Intelligence! (For Kids)Dive into the world of AI! ğŸ¤– Join our \"Introduction to Artificial Intelligence\" course and unlock t 20 LessonsView Details$30per sessionGame development using python\\nWelcome to the \"Introduction to Python Game Development\" course! In this course, you\\'ll embark on a 4 LessonsView Details$20per sessionBuild a Image manipulator using Python Bootcamp for kidsThe Build a Image Manipulator using Python Bootcamp for Kids is a program designed to introduce chil 8 LessonsView Details$20per sessionBuild a Weather app using Python Bootcamp for kidsBuild a Weather App using Python Bootcamp for Kids is an educational program designed to introduce y 8 LessonsView Details$20per sessionBuild Your Own Roblox Battle ArenaRoblox Studio fundamentals are taught through fun and interactive projects. Lectures, projects, hand 8 LessonsView Details$22per sessionThe Millionaire\\'s AI Playbook: Learn How to Predict Stock Prices! (For Kids)Learn to predict stock prices using the incredible potential of AI and machine learning in our compr 10 LessonsView Details$11per sessionMachine Learning: 7-Day Project-Based Summer CampJoin our \"Machine Learning Mania\" camp for a 7-day tech adventure! Kids will tackle machine learning 7 LessonsView Details$25per sessionAI Pro Camp: Career Growth CatalystOur Intro to AI for Adults course is designed to equip professionals with essential knowledge and pr 20 LessonsView Details$20per sessionMinecraft Java Programming for BeginnersSession-1: Introduction to Java programming and Minecraft. Lesson 2: Getting Started in Creative Mod 7 LessonsView Details$20per sessionBuild a Chatbot using Python Bootcamp for kidsThis bootcamp is a fun and interactive program designed to teach children how to create their own ch 8 LessonsView Details$20per sessionBuild a Password generator using Python Bootcamp for kidsWelcome to the Build a Password Generator using Python Bootcamp for Kids! In this bootcamp, you will 8 LessonsView Details$20per sessionScratch Playground: Create a Space Game!Scratch Playground : Create a Space Game is an intermediate-level course designed to introduce kids  8 LessonsView Details$20per sessionCreate Your Own Roblox Obstacle CourseRoblox enthusiasts who want to learn how to design and build their own custom obstacle courses withi 8 LessonsView Details$20per sessionJava Minecraft Creative or Survival Mode1. Title: Minecraft Java Programming for Beginners Overview: This class is designed for complete beg 7 LessonsView Details$25per sessionAI Camp for Jobs & Business:Build Your own ChatGPTğŸŒŸWelcome to the Chatbot Mastery Course! ğŸ�“\\n\\nGet ready to unlock the secrets of building intelligent 10 LessonsView Details$13per sessionHTML, CSS, JavaScript Essentials: 5-Day Coding BootcampUnleash your creativity in our fun and interactive 5-day summer camp. No prior experience needed. Yo 5 LessonsView DetailsWorking to bring significant changes in online-based learning by doing extensive research for course curriculum preparation, student engagements, and looking forward to the flexible education!ExploreHomeCoursesGift a CourseShare a MessageResourcesFAQContactAddressUSA(+1) 414 429 3937support@brainlox.com(+1) 414 429 39372024 BrainloxPrivacy PolicyTerms & Conditions', metadata={'source': 'https://brainlox.com/courses/category/technical', 'title': 'Brainlox: Learn technical courses.', 'description': 'Your one stop education destination!', 'language': 'zxx'})]"
      ]
     },
     "execution_count": 4,
     "metadata": {},
     "output_type": "execute_result"
    }
   ],
   "source": [
    "data"
   ]
  },
  {
   "cell_type": "code",
   "execution_count": 6,
   "metadata": {},
   "outputs": [],
   "source": [
    "from langchain_text_splitters import RecursiveCharacterTextSplitter\n",
    "\n",
    "\n",
    "text_splitter = RecursiveCharacterTextSplitter()\n",
    "docs = text_splitter.split_documents(data)"
   ]
  },
  {
   "cell_type": "code",
   "execution_count": 7,
   "metadata": {},
   "outputs": [
    {
     "data": {
      "text/plain": [
       "[Document(page_content='Brainlox: Learn technical courses.Courses TechnicalAcademicLanguageMusicLifestyleBook a Free Demo NowSign InFAQContact UsPractice PythonLearn NowHomeCoursesCoursesWe found great courses available for you$20per sessionLEARN SCRATCH PROGRAMING\\nScratch Course is the foundation of coding and is a building block of a coding journey. If you want 16 LessonsView Details$30per sessionLEARN CLOUD COMPUTING BASICS-AWS\\nIn this course we are going to cover the basics and the most important services on AWS,\\nAt the end  20 LessonsView Details$20per sessionLEARN MOBILE DEVELOPMENT\\nMobile application development is the process of creating software applications that run on a mobil 24 LessonsView Details$20per sessionLEARN CORE JAVA PROGRAMMING ONLINE\\nJava is a very popular high-level, class-based, object-oriented programming language that is design 41 LessonsView Details$20per sessionLEARN ROBOTICS\\nYou can open all kinds of doors for advancement in so many careers with a basic understanding of el 25 LessonsView Details$20per sessionLEARN JAVASCRIPT\\nJavaScript is the most popular programming language in the world. It powers the entire modern web.  18 LessonsView Details$20per sessionLEARN NODE JS\\nNode.js developers are in high demand and the language is used for everything from traditional web  18 LessonsView Details$35per sessionLEARN CLOUD COMPUTING ADVANCE-AWSDESCRIPTION\\nThis introduction to cloud computing on Amazon AWS course takes you from the AWS Ad 18 LessonsView Details$20per sessionPYTHON PROGRAMMING-BEGINNER\\nPython is a language with simple syntax, and a powerful set of libraries. It has a rich programming 16 LessonsView Details$30per sessionRoblox Programming For BeginnersExplore the dynamic universe of game development with our \"Roblox Game Development Fundamentals\" cou 15 LessonsView Details$20per sessionPYTHON PROGRAMMING-INTERMEDIATE\\nTake your python skills to the next level and start building real applications.\\nPython is a pro 16 LessonsView Details$25per sessionPYTHON PROGRAMMING-ADVANCEIf you already know Python basics, then this training is the next step in your Python learning path  30 LessonsView Details$20per sessionPYTHON PROGRAMMING GROUP CLASSES - BEGINNER\\nPython is a language with simple syntax, and a powerful set of libraries. It has a rich programming 16 LessonsView Details$30per sessionAdvanced Roblox Scripting Workshop\"Are you ready to unlock the full potential of your Roblox game development skills? Join our Interme 14 LessonsView Details$20per sessionRobotics Adventure Awaits:Join Our Summer Camp for Young Tech Wizards!This course is designed to introduce beginners to the world of robotics. Learners will be taught the 16 LessonsView Details$20per sessionJava Project-Based CourseJava Project-Based Course for Intermediate Level Students ;Overview: This course is designed for int 7 LessonsView Details$22per sessionArtificial Intelligence Adventures: Building AI Chatbot Like Chatgpt (For Kids)Unlock the power of AI chatbots in our 10-day course! Gain comprehensive knowledge of chatbot develo 10 LessonsView Details$20per sessionPython Playground: Create a Hangman GamePython Playground : Create a Hangman Game is an exciting and engaging course designed specifically f 8 LessonsView Details$20per sessionScratch Playground: Create a Maze Game!Scratch Playground : Create a Maze Game! is a beginner-level course designed to introduce kids to th 8 LessonsView Details$13per sessionArtificial Intelligence Essentials: Summer BootcampJoin us for this engaging 5-day summer bootcamp where we will explore the fascinating world of Artif 5 LessonsView Details$25per sessionTime Mastery Camp: AI for Jobs, Business, CareersThe \"AI for Productivity and Time Management\" course: ğŸš€ğŸ’¡', metadata={'source': 'https://brainlox.com/courses/category/technical', 'title': 'Brainlox: Learn technical courses.', 'description': 'Your one stop education destination!', 'language': 'zxx'}),\n",
       " Document(page_content='Day 1: Introduction to AI and its Applica 11 LessonsView Details$20per sessionBuild Your Own Theme Park in RobloxRoblox Studio fundamentals are taught through fun and interactive projects. Lectures, projects, hand 8 LessonsView Details$12per sessionJava Coding Summer Camp for Young MindsJava Journey: Coding Camp for Curious Minds\" is a fun-filled, 5-day adventure into the world of prog 5 LessonsView Details$25per sessionAI Camp for Entrepreneurs: Build Business SuccessWelcome to the world of AI in entrepreneurship!  In this course, we will embark on a thrilling journ 7 LessonsView Details$12per sessionChatGPT Boot Camp: Basics & Best UsesJoin us for an exciting journey into the world of AI chatbots with this 5-day bootcamp. You\\'ll learn 5 LessonsView Details$13per sessionCreate-A-Bot: A Project-Based Robotics ExplorationIgnite your child\\'s tech curiosity with our \"RoboRacers\" camp! Over five days, campers will delve in 5 LessonsView Details$20per sessionJava & Proramming\" Project outline for JAVA PROJECT BASED BOOTCAMP\\n1: Introduction to Java and Programming Basics.\\n2. 8 LessonsView Details$13per sessionChatbot Creators: Design a ChatGPT-like AIJoin us on a 7-day bootcamp to step into the world of AI and create your own chatbot like ChatGPT. Y 7 LessonsView Details$30per sessionWeb Development from scratchUnlock the boundless potential of web development with our \"Web Development Essentials\" course. Whet 6 LessonsView Details$11per sessionSummer Camp: Introduction to PythonStep into our 7-day \"Python Project Playground\" camp where coding meets creativity! Kids will explor 7 LessonsView Details$22per sessionAI Secrets Revealed: Master Productivity Hacks That Will Blow Your Mind! (For Kids)Boost your productivity with AI!', metadata={'source': 'https://brainlox.com/courses/category/technical', 'title': 'Brainlox: Learn technical courses.', 'description': 'Your one stop education destination!', 'language': 'zxx'}),\n",
       " Document(page_content='Join our \"AI for Productivity and Time Management\" course and lea 11 LessonsView Details$12per sessionSummer Bootcamp with JavaScript: Real Projects, Real ResultsIn this 5-day camp, you\\'ll dive headfirst into JavaScript, one of the world\\'s most popular programmi 5 LessonsView Details$22per sessionAI Disruption: Top Entrepreneurs Harnessing AI for Unprecedented Success! (For Kids)Understand the role and potential of AI in entrepreneurship, learn the fundamentals, explore data ac 7 LessonsView Details$22per sessionThe AI Writer\\'s Masterclass: Innovation and Inspiration in Creative Writing! (For Kids)Enhance your creative writing skills with AI! Join our 10-day course and explore AI\\'s role in writin 10 LessonsView Details$30per sessionWeb Development Pro: Intermediate LevelReady to unlock the full potential of web development? Join our \"Intermediate Web Development Master 8 LessonsView Details$20per sessionScratch Playground: Create a Scroller Game!Scratch Playground : Create a Scroller Game is an intermediate level course designed to teach kids t 8 LessonsView Details$25per sessionAI Pro: Creative Writing Camp for AdultsğŸš€ Welcome to Creative Writing with AI for ADULTS!', metadata={'source': 'https://brainlox.com/courses/category/technical', 'title': 'Brainlox: Learn technical courses.', 'description': 'Your one stop education destination!', 'language': 'zxx'}),\n",
       " Document(page_content='Unleash your creativity with cutting-edge AI tec 10 LessonsView Details$20per sessionPython Playground: Create Your Own Snake GameThrough this course, participants will learn the fundamentals of Python programming language, as wel 8 LessonsView Details$20per sessionBuild your own Calculator using Python Bootcamp for kidsThis bootcamp is a fun and engaging program designed to introduce children to the basics of programm 8 LessonsView Details$20per sessionPython Playground: Create a Tic Tac Toe GameAn interactive and hands-on tutorial designed to help learners build their programming skills while  8 LessonsView Details$20per sessionScratch Playground: Create a Flappy Bird Game!Scratch Playground 103: Create a Flappy Bird is a beginner to intermediate level course designed to  8 LessonsView Details$12per sessionHTML, CSS, JavaScript: 7-Day Summer BootcampJump into the vibrant world of coding with our engaging 7-day summer camp! Starting from scratch, yo 7 LessonsView Details$11per sessionHands-on Java: Project-based Learning for Coding NovicesEmbark on a coding adventure with our \"Code, Create, Conquer\" Java camp! In just 7 days, kids will l 7 LessonsView Details$20per sessionPython Playground: Create a Memory GamePython Playground: Create a Memory Game is a beginner-level course designed for kids who are interes 8 LessonsView Details$12per sessionSummer Bootcamp: 5-Day Scratch Programming for BeginnersEmbark on an exciting coding adventure with our 5-day Scratch Programming camp! Designed for beginne 5 LessonsView Details$12per session5-Day Summer Camp: Python for BeginnersDive into coding with our 5-day \"Python Playground\" camp! Kids will explore Python, a popular langua 5 LessonsView Details$20per sessionBuild a Text analyzer using Python Bootcamp for kidsThe Build a Text Analyzer using Python Bootcamp for Kids is an educational program designed to intro 8 LessonsView Details$20per sessionScratch Playground : Create a Platformer Game!Scratch Playground : Create a Platformer Game is an intermediate level course designed to teach kids 8 LessonsView Details$30per sessionIntroduction to Artificial Intelligence!Welcome to the \"Introduction to Artificial Intelligence and Python\" course! This course is designed  5 LessonsView Details$20per sessionPython Playground: Create a Rock, Paper, Scissors GameThis is an engaging course designed for kids who are interested in learning programming with Python. 8 LessonsView Details$25per sessionAI in Stock Market Success: Career Growth Camp !!Are you ready to unlock the secrets of predicting stock prices using AI? ğŸ“ˆğŸ¤– Join our immersive cou 10 LessonsView Details$22per sessionFrom Beginner to AI Pro: Kickstart Your Journey With Artificial Intelligence! (For Kids)Dive into the world of AI! ğŸ¤– Join our \"Introduction to Artificial Intelligence\" course and unlock t 20 LessonsView Details$30per sessionGame development using python', metadata={'source': 'https://brainlox.com/courses/category/technical', 'title': 'Brainlox: Learn technical courses.', 'description': 'Your one stop education destination!', 'language': 'zxx'}),\n",
       " Document(page_content='Welcome to the \"Introduction to Python Game Development\" course! In this course, you\\'ll embark on a 4 LessonsView Details$20per sessionBuild a Image manipulator using Python Bootcamp for kidsThe Build a Image Manipulator using Python Bootcamp for Kids is a program designed to introduce chil 8 LessonsView Details$20per sessionBuild a Weather app using Python Bootcamp for kidsBuild a Weather App using Python Bootcamp for Kids is an educational program designed to introduce y 8 LessonsView Details$20per sessionBuild Your Own Roblox Battle ArenaRoblox Studio fundamentals are taught through fun and interactive projects. Lectures, projects, hand 8 LessonsView Details$22per sessionThe Millionaire\\'s AI Playbook: Learn How to Predict Stock Prices! (For Kids)Learn to predict stock prices using the incredible potential of AI and machine learning in our compr 10 LessonsView Details$11per sessionMachine Learning: 7-Day Project-Based Summer CampJoin our \"Machine Learning Mania\" camp for a 7-day tech adventure! Kids will tackle machine learning 7 LessonsView Details$25per sessionAI Pro Camp: Career Growth CatalystOur Intro to AI for Adults course is designed to equip professionals with essential knowledge and pr 20 LessonsView Details$20per sessionMinecraft Java Programming for BeginnersSession-1: Introduction to Java programming and Minecraft. Lesson 2: Getting Started in Creative Mod 7 LessonsView Details$20per sessionBuild a Chatbot using Python Bootcamp for kidsThis bootcamp is a fun and interactive program designed to teach children how to create their own ch 8 LessonsView Details$20per sessionBuild a Password generator using Python Bootcamp for kidsWelcome to the Build a Password Generator using Python Bootcamp for Kids! In this bootcamp, you will 8 LessonsView Details$20per sessionScratch Playground: Create a Space Game!Scratch Playground : Create a Space Game is an intermediate-level course designed to introduce kids  8 LessonsView Details$20per sessionCreate Your Own Roblox Obstacle CourseRoblox enthusiasts who want to learn how to design and build their own custom obstacle courses withi 8 LessonsView Details$20per sessionJava Minecraft Creative or Survival Mode1. Title: Minecraft Java Programming for Beginners Overview: This class is designed for complete beg 7 LessonsView Details$25per sessionAI Camp for Jobs & Business:Build Your own ChatGPTğŸŒŸWelcome to the Chatbot Mastery Course! ğŸ�“', metadata={'source': 'https://brainlox.com/courses/category/technical', 'title': 'Brainlox: Learn technical courses.', 'description': 'Your one stop education destination!', 'language': 'zxx'}),\n",
       " Document(page_content='Get ready to unlock the secrets of building intelligent 10 LessonsView Details$13per sessionHTML, CSS, JavaScript Essentials: 5-Day Coding BootcampUnleash your creativity in our fun and interactive 5-day summer camp. No prior experience needed. Yo 5 LessonsView DetailsWorking to bring significant changes in online-based learning by doing extensive research for course curriculum preparation, student engagements, and looking forward to the flexible education!ExploreHomeCoursesGift a CourseShare a MessageResourcesFAQContactAddressUSA(+1) 414 429 3937support@brainlox.com(+1) 414 429 39372024 BrainloxPrivacy PolicyTerms & Conditions', metadata={'source': 'https://brainlox.com/courses/category/technical', 'title': 'Brainlox: Learn technical courses.', 'description': 'Your one stop education destination!', 'language': 'zxx'})]"
      ]
     },
     "execution_count": 7,
     "metadata": {},
     "output_type": "execute_result"
    }
   ],
   "source": [
    "docs"
   ]
  },
  {
   "cell_type": "markdown",
   "metadata": {},
   "source": [
    "## Creating Embeddings"
   ]
  },
  {
   "cell_type": "code",
   "execution_count": 23,
   "metadata": {},
   "outputs": [],
   "source": [
    "from langchain_community.embeddings import OllamaEmbeddings\n",
    "\n",
    "embeddings = OllamaEmbeddings(\n",
    "    model=\"llama3\"\n",
    ")"
   ]
  },
  {
   "cell_type": "markdown",
   "metadata": {},
   "source": [
    "## Vector Store"
   ]
  },
  {
   "cell_type": "code",
   "execution_count": 24,
   "metadata": {},
   "outputs": [],
   "source": [
    "from langchain.vectorstores import FAISS\n",
    "\n",
    "vector = FAISS.from_documents(docs, embeddings)"
   ]
  },
  {
   "cell_type": "code",
   "execution_count": 25,
   "metadata": {},
   "outputs": [],
   "source": [
    "# import pickle\n",
    "# with open(\"FAISS_Store.pkl\", \"rb\") as file:\n",
    "#     pickle.dump(vector, f)"
   ]
  },
  {
   "cell_type": "markdown",
   "metadata": {},
   "source": [
    "## Creating LLM chain"
   ]
  },
  {
   "cell_type": "code",
   "execution_count": 27,
   "metadata": {},
   "outputs": [],
   "source": [
    "from langchain_community.llms import Ollama\n",
    "llm = Ollama(\n",
    "    model=\"llama3\"\n",
    ")"
   ]
  },
  {
   "cell_type": "code",
   "execution_count": 30,
   "metadata": {},
   "outputs": [],
   "source": [
    "from langchain.chains.combine_documents import create_stuff_documents_chain\n",
    "from langchain_core.prompts import ChatPromptTemplate\n",
    "\n",
    "prompt = ChatPromptTemplate.from_template(\n",
    "    \"\"\"Answer the following question based only on the provided context:\n",
    "\n",
    "    <context>\n",
    "    {context}\n",
    "    </context>\n",
    "\n",
    "    Question: {input}\n",
    "\"\"\")\n",
    "\n",
    "document_chain = create_stuff_documents_chain(llm, prompt)"
   ]
  },
  {
   "cell_type": "code",
   "execution_count": 31,
   "metadata": {},
   "outputs": [],
   "source": [
    "from langchain.chains import create_retrieval_chain\n",
    "\n",
    "retriever = vector.as_retriever()\n",
    "retrieval_chain = create_retrieval_chain(\n",
    "    retriever,\n",
    "    document_chain\n",
    ")"
   ]
  },
  {
   "cell_type": "code",
   "execution_count": 33,
   "metadata": {},
   "outputs": [
    {
     "name": "stdout",
     "output_type": "stream",
     "text": [
      "Based on the provided context, Brainlox seems to offer a variety of courses and boot camps related to programming, coding, and artificial intelligence (AI). Some examples include:\n",
      "\n",
      "* Coding Boot Camps (e.g., HTML, CSS, JavaScript Essentials)\n",
      "* AI-related Courses (e.g., Introduction to AI, Chatbot Creators, AI Secrets Revealed)\n",
      "* Programming-specific Courses (e.g., Java Minecraft Creative or Survival Mode, Scratch Playground)\n",
      "* Robotics and Game Development Courses (e.g., Build Your Own Theme Park in Roblox, Create-A-Bot)\n",
      "\n",
      "Brainlox appears to be an online learning platform that offers flexible education options for students of various age groups and skill levels. They seem to cater to both kids and adults, providing a range of courses and boot camps that can help individuals develop their programming, coding, and AI skills.\n",
      "\n",
      "Therefore, Brainlox can help by:\n",
      "\n",
      "* Providing accessible and engaging online learning experiences\n",
      "* Offering a variety of courses and boot camps for students with different interests and skill levels\n",
      "* Helping individuals develop their programming, coding, and AI skills through hands-on projects and interactive lessons\n",
      "* Fostering creativity, problem-solving, and critical thinking abilities in students\n"
     ]
    }
   ],
   "source": [
    "response = retrieval_chain.invoke({\"input\": \"how can brainlox help?\"})\n",
    "print(response[\"answer\"])"
   ]
  },
  {
   "cell_type": "code",
   "execution_count": null,
   "metadata": {},
   "outputs": [],
   "source": []
  }
 ],
 "metadata": {
  "kernelspec": {
   "display_name": "base",
   "language": "python",
   "name": "python3"
  },
  "language_info": {
   "codemirror_mode": {
    "name": "ipython",
    "version": 3
   },
   "file_extension": ".py",
   "mimetype": "text/x-python",
   "name": "python",
   "nbconvert_exporter": "python",
   "pygments_lexer": "ipython3",
   "version": "3.11.8"
  }
 },
 "nbformat": 4,
 "nbformat_minor": 2
}
